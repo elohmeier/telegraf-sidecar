{
 "cells": [
  {
   "cell_type": "code",
   "execution_count": 45,
   "metadata": {},
   "outputs": [],
   "source": [
    "from kubernetes import client, config\n",
    "\n",
    "config.load_kube_config()\n",
    "\n",
    "# use this insted in the pod, will use env vars\n",
    "# config.load_incluster_config()"
   ]
  },
  {
   "cell_type": "code",
   "execution_count": 5,
   "metadata": {},
   "outputs": [],
   "source": [
    "v1 = client.CoreV1Api()"
   ]
  },
  {
   "cell_type": "code",
   "execution_count": 9,
   "metadata": {},
   "outputs": [
    {
     "name": "stdout",
     "output_type": "stream",
     "text": [
      "mychart-6869485dc4-9f4vj\tRunning\t172.17.0.9\n",
      "mychart-telegraf-5979bc89d4-r7k7c\tRunning\t172.17.0.10\n"
     ]
    },
    {
     "name": "stderr",
     "output_type": "stream",
     "text": [
      "/nix/store/976dyy4pdsfpjny0xg1w0d1jrcs3cj1n-python3-3.8.5-env/lib/python3.8/site-packages/urllib3/connectionpool.py:981: InsecureRequestWarning: Unverified HTTPS request is being made to host '192.168.42.193'. Adding certificate verification is strongly advised. See: https://urllib3.readthedocs.io/en/latest/advanced-usage.html#ssl-warnings\n",
      "  warnings.warn(\n"
     ]
    }
   ],
   "source": [
    "for pod in v1.list_namespaced_pod(\"telegraf\").items:\n",
    "    print(\"%s\\t%s\\t%s\" % (pod.metadata.name, pod.status.phase, pod.status.pod_ip))"
   ]
  },
  {
   "cell_type": "code",
   "execution_count": 18,
   "metadata": {},
   "outputs": [
    {
     "name": "stderr",
     "output_type": "stream",
     "text": [
      "/nix/store/976dyy4pdsfpjny0xg1w0d1jrcs3cj1n-python3-3.8.5-env/lib/python3.8/site-packages/urllib3/connectionpool.py:981: InsecureRequestWarning: Unverified HTTPS request is being made to host '192.168.42.193'. Adding certificate verification is strongly advised. See: https://urllib3.readthedocs.io/en/latest/advanced-usage.html#ssl-warnings\n",
      "  warnings.warn(\n"
     ]
    },
    {
     "data": {
      "text/plain": [
       "{'api_version': 'v1',\n",
       " 'binary_data': None,\n",
       " 'data': None,\n",
       " 'kind': 'ConfigMap',\n",
       " 'metadata': {'annotations': {'meta.helm.sh/release-name': 'mychart',\n",
       "                              'meta.helm.sh/release-namespace': 'telegraf'},\n",
       "              'cluster_name': None,\n",
       "              'creation_timestamp': datetime.datetime(2020, 11, 18, 9, 32, 10, tzinfo=tzutc()),\n",
       "              'deletion_grace_period_seconds': None,\n",
       "              'deletion_timestamp': None,\n",
       "              'finalizers': None,\n",
       "              'generate_name': None,\n",
       "              'generation': None,\n",
       "              'initializers': None,\n",
       "              'labels': {'app.kubernetes.io/instance': 'mychart',\n",
       "                         'app.kubernetes.io/managed-by': 'Helm',\n",
       "                         'app.kubernetes.io/name': 'mychart',\n",
       "                         'app.kubernetes.io/version': '1.16.0',\n",
       "                         'helm.sh/chart': 'mychart-0.1.0'},\n",
       "              'managed_fields': None,\n",
       "              'name': 'telegrafd',\n",
       "              'namespace': 'telegraf',\n",
       "              'owner_references': None,\n",
       "              'resource_version': '71048',\n",
       "              'self_link': '/api/v1/namespaces/telegraf/configmaps/telegrafd',\n",
       "              'uid': 'ee9f5eda-2980-11eb-bc9c-525400a3d341'}}"
      ]
     },
     "execution_count": 18,
     "metadata": {},
     "output_type": "execute_result"
    }
   ],
   "source": [
    "v1.read_namespaced_config_map(\"telegrafd\", \"telegraf\")"
   ]
  },
  {
   "cell_type": "code",
   "execution_count": 33,
   "metadata": {},
   "outputs": [
    {
     "name": "stderr",
     "output_type": "stream",
     "text": [
      "/nix/store/976dyy4pdsfpjny0xg1w0d1jrcs3cj1n-python3-3.8.5-env/lib/python3.8/site-packages/urllib3/connectionpool.py:981: InsecureRequestWarning: Unverified HTTPS request is being made to host '192.168.42.193'. Adding certificate verification is strongly advised. See: https://urllib3.readthedocs.io/en/latest/advanced-usage.html#ssl-warnings\n",
      "  warnings.warn(\n"
     ]
    },
    {
     "data": {
      "text/plain": [
       "{'api_version': 'v1',\n",
       " 'binary_data': None,\n",
       " 'data': {'xxx.conf': 'abc', 'xxx2.conf': 'abc', 'xxx3.conf': 'abc'},\n",
       " 'kind': 'ConfigMap',\n",
       " 'metadata': {'annotations': {'meta.helm.sh/release-name': 'mychart',\n",
       "                              'meta.helm.sh/release-namespace': 'telegraf'},\n",
       "              'cluster_name': None,\n",
       "              'creation_timestamp': datetime.datetime(2020, 11, 18, 9, 32, 10, tzinfo=tzutc()),\n",
       "              'deletion_grace_period_seconds': None,\n",
       "              'deletion_timestamp': None,\n",
       "              'finalizers': None,\n",
       "              'generate_name': None,\n",
       "              'generation': None,\n",
       "              'initializers': None,\n",
       "              'labels': {'app.kubernetes.io/instance': 'mychart',\n",
       "                         'app.kubernetes.io/managed-by': 'Helm',\n",
       "                         'app.kubernetes.io/name': 'mychart',\n",
       "                         'app.kubernetes.io/version': '1.16.0',\n",
       "                         'helm.sh/chart': 'mychart-0.1.0'},\n",
       "              'managed_fields': None,\n",
       "              'name': 'telegrafd',\n",
       "              'namespace': 'telegraf',\n",
       "              'owner_references': None,\n",
       "              'resource_version': '91653',\n",
       "              'self_link': '/api/v1/namespaces/telegraf/configmaps/telegrafd',\n",
       "              'uid': 'ee9f5eda-2980-11eb-bc9c-525400a3d341'}}"
      ]
     },
     "execution_count": 33,
     "metadata": {},
     "output_type": "execute_result"
    }
   ],
   "source": [
    "v1.patch_namespaced_config_map(\"telegrafd\", \"telegraf\", {\"data\": {\"xxx3.conf\": \"abc\"}})"
   ]
  },
  {
   "cell_type": "code",
   "execution_count": 40,
   "metadata": {},
   "outputs": [
    {
     "name": "stderr",
     "output_type": "stream",
     "text": [
      "/nix/store/976dyy4pdsfpjny0xg1w0d1jrcs3cj1n-python3-3.8.5-env/lib/python3.8/site-packages/urllib3/connectionpool.py:981: InsecureRequestWarning: Unverified HTTPS request is being made to host '192.168.42.193'. Adding certificate verification is strongly advised. See: https://urllib3.readthedocs.io/en/latest/advanced-usage.html#ssl-warnings\n",
      "  warnings.warn(\n"
     ]
    }
   ],
   "source": [
    "def clear_configmap(api: client.CoreV1Api, name: str, namespace: str):\n",
    "    \"\"\" drops all config map items \"\"\"\n",
    "    cm = api.read_namespaced_config_map(name, namespace)\n",
    "    if cm.data:\n",
    "        api.patch_namespaced_config_map(\n",
    "            name, namespace, {\"data\": {k: None for k in cm.data}}\n",
    "        )\n",
    "\n",
    "\n",
    "clear_configmap(v1, \"telegrafd\", \"telegraf\")"
   ]
  },
  {
   "cell_type": "code",
   "execution_count": null,
   "metadata": {},
   "outputs": [],
   "source": []
  },
  {
   "cell_type": "code",
   "execution_count": 48,
   "metadata": {},
   "outputs": [],
   "source": [
    "def get_current_namespace() -> str:\n",
    "    \"\"\" get namespace of executing pod, only works inside a pod \"\"\"\n",
    "    return open(\"/var/run/secrets/kubernetes.io/serviceaccount/namespace\").read()"
   ]
  },
  {
   "cell_type": "code",
   "execution_count": 83,
   "metadata": {},
   "outputs": [],
   "source": [
    "# v1.list_namespaced_pod(\"telegraf\").items[0].metadata.owner_references[0]"
   ]
  },
  {
   "cell_type": "code",
   "execution_count": 55,
   "metadata": {},
   "outputs": [],
   "source": [
    "appsv1 = client.AppsV1Api()"
   ]
  },
  {
   "cell_type": "code",
   "execution_count": 63,
   "metadata": {},
   "outputs": [
    {
     "name": "stderr",
     "output_type": "stream",
     "text": [
      "/nix/store/976dyy4pdsfpjny0xg1w0d1jrcs3cj1n-python3-3.8.5-env/lib/python3.8/site-packages/urllib3/connectionpool.py:981: InsecureRequestWarning: Unverified HTTPS request is being made to host '192.168.42.193'. Adding certificate verification is strongly advised. See: https://urllib3.readthedocs.io/en/latest/advanced-usage.html#ssl-warnings\n",
      "  warnings.warn(\n"
     ]
    },
    {
     "data": {
      "text/plain": [
       "{'api_version': 'autoscaling/v1',\n",
       " 'kind': 'Scale',\n",
       " 'metadata': {'annotations': None,\n",
       "              'cluster_name': None,\n",
       "              'creation_timestamp': datetime.datetime(2020, 11, 18, 13, 21, 25, tzinfo=tzutc()),\n",
       "              'deletion_grace_period_seconds': None,\n",
       "              'deletion_timestamp': None,\n",
       "              'finalizers': None,\n",
       "              'generate_name': None,\n",
       "              'generation': None,\n",
       "              'initializers': None,\n",
       "              'labels': None,\n",
       "              'managed_fields': None,\n",
       "              'name': 'mychart',\n",
       "              'namespace': 'telegraf',\n",
       "              'owner_references': None,\n",
       "              'resource_version': '101774',\n",
       "              'self_link': '/apis/apps/v1/namespaces/telegraf/deployments/mychart/scale',\n",
       "              'uid': 'f544b39f-29a0-11eb-bc9c-525400a3d341'},\n",
       " 'spec': {'replicas': 1},\n",
       " 'status': {'replicas': 1,\n",
       "            'selector': 'app.kubernetes.io/instance=mychart,app.kubernetes.io/name=mychart'}}"
      ]
     },
     "execution_count": 63,
     "metadata": {},
     "output_type": "execute_result"
    }
   ],
   "source": [
    "appsv1.read_namespaced_deployment_scale(\"mychart\", \"telegraf\")"
   ]
  },
  {
   "cell_type": "code",
   "execution_count": 82,
   "metadata": {},
   "outputs": [
    {
     "name": "stderr",
     "output_type": "stream",
     "text": [
      "/nix/store/976dyy4pdsfpjny0xg1w0d1jrcs3cj1n-python3-3.8.5-env/lib/python3.8/site-packages/urllib3/connectionpool.py:981: InsecureRequestWarning: Unverified HTTPS request is being made to host '192.168.42.193'. Adding certificate verification is strongly advised. See: https://urllib3.readthedocs.io/en/latest/advanced-usage.html#ssl-warnings\n",
      "  warnings.warn(\n"
     ]
    },
    {
     "data": {
      "text/plain": [
       "{'api_version': 'autoscaling/v1',\n",
       " 'kind': 'Scale',\n",
       " 'metadata': {'annotations': None,\n",
       "              'cluster_name': None,\n",
       "              'creation_timestamp': datetime.datetime(2020, 11, 18, 13, 21, 25, tzinfo=tzutc()),\n",
       "              'deletion_grace_period_seconds': None,\n",
       "              'deletion_timestamp': None,\n",
       "              'finalizers': None,\n",
       "              'generate_name': None,\n",
       "              'generation': None,\n",
       "              'initializers': None,\n",
       "              'labels': None,\n",
       "              'managed_fields': None,\n",
       "              'name': 'mychart',\n",
       "              'namespace': 'telegraf',\n",
       "              'owner_references': None,\n",
       "              'resource_version': '102851',\n",
       "              'self_link': '/apis/apps/v1/namespaces/telegraf/deployments/mychart/scale',\n",
       "              'uid': 'f544b39f-29a0-11eb-bc9c-525400a3d341'},\n",
       " 'spec': {'replicas': 1},\n",
       " 'status': {'replicas': 0,\n",
       "            'selector': 'app.kubernetes.io/instance=mychart,app.kubernetes.io/name=mychart'}}"
      ]
     },
     "execution_count": 82,
     "metadata": {},
     "output_type": "execute_result"
    }
   ],
   "source": [
    "appsv1.patch_namespaced_deployment_scale(\n",
    "    \"mychart\", \"telegraf\", {\"spec\": {\"replicas\": 1}}\n",
    ")"
   ]
  }
 ],
 "metadata": {
  "kernelspec": {
   "display_name": "telegraf-sidecar",
   "language": "python",
   "name": "telegraf-sidecar"
  },
  "language_info": {
   "codemirror_mode": {
    "name": "ipython",
    "version": 3
   },
   "file_extension": ".py",
   "mimetype": "text/x-python",
   "name": "python",
   "nbconvert_exporter": "python",
   "pygments_lexer": "ipython3",
   "version": "3.8.5"
  }
 },
 "nbformat": 4,
 "nbformat_minor": 4
}
